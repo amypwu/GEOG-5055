{
 "cells": [
  {
   "cell_type": "code",
   "execution_count": 32,
   "metadata": {},
   "outputs": [],
   "source": [
    "# Cell 1\n",
    "import arcpy"
   ]
  },
  {
   "cell_type": "code",
   "execution_count": 33,
   "metadata": {},
   "outputs": [
    {
     "name": "stdout",
     "output_type": "stream",
     "text": [
      "H:/GEOG/Data\n"
     ]
    }
   ],
   "source": [
    "# Cell 2\n",
    "print(arcpy.env.workspace)"
   ]
  },
  {
   "cell_type": "code",
   "execution_count": 34,
   "metadata": {},
   "outputs": [],
   "source": [
    "# Cell 3\n",
    "folder = \"H:/GEOG/Data\"\n",
    "\n"
   ]
  },
  {
   "cell_type": "code",
   "execution_count": 35,
   "metadata": {},
   "outputs": [],
   "source": [
    "# Cell 4\n",
    "arcpy.env.workspace=folder"
   ]
  },
  {
   "cell_type": "code",
   "execution_count": 36,
   "metadata": {},
   "outputs": [
    {
     "name": "stdout",
     "output_type": "stream",
     "text": [
      "H:/GEOG/Data\n"
     ]
    }
   ],
   "source": [
    "# Cell 5\n",
    "print(arcpy.env.workspace)"
   ]
  },
  {
   "cell_type": "code",
   "execution_count": 37,
   "metadata": {},
   "outputs": [],
   "source": [
    "# Cell 6\n",
    "fcList=arcpy.ListFeatureClasses()"
   ]
  },
  {
   "cell_type": "code",
   "execution_count": 38,
   "metadata": {},
   "outputs": [
    {
     "name": "stdout",
     "output_type": "stream",
     "text": [
      "['IowaCounties.shp', 'IowaCountiesFoodProgram.shp', 'NewFARate19.shp', 'NewFARate22.shp']\n"
     ]
    }
   ],
   "source": [
    "# Cell 7\n",
    "print(fcList)"
   ]
  },
  {
   "cell_type": "code",
   "execution_count": 39,
   "metadata": {},
   "outputs": [
    {
     "name": "stdout",
     "output_type": "stream",
     "text": [
      "FID\n",
      "Shape\n",
      "PERIMETER\n",
      "DOMCountyI\n",
      "FIPS\n",
      "Shape_Leng\n",
      "Shape_Area\n",
      "FIPS_INT\n",
      "CountyName\n",
      "StateAbbr\n",
      "CountyDisp\n",
      "ID\n",
      "County_Nam\n",
      "FIPS_1\n",
      "Primary_Po\n",
      "Service_Ar\n",
      "Households\n",
      "Recip22\n",
      "Recip19\n",
      "Allotments\n",
      "Primary_Co\n",
      "Primary__1\n",
      "Primary__2\n",
      "FArate22\n",
      "FArate19\n",
      "Pop22\n",
      "Pop19\n",
      "Pop_Incr\n"
     ]
    },
    {
     "data": {
      "text/plain": [
       "<class 'list'>"
      ]
     },
     "execution_count": 39,
     "metadata": {},
     "output_type": "execute_result"
    }
   ],
   "source": [
    "# Cell 8\n",
    "fc='H:/GEOG/Data/IowaCountiesFoodProgram.shp'\n",
    "# fc=r\"H:/GEOG/Data/IAcountyneighbors.dbf\"\n",
    "fcFields = arcpy.ListFields(fc)\n",
    "for field in fcFields:\n",
    "    print(field.name)\n",
    "type(fcFields)"
   ]
  },
  {
   "cell_type": "code",
   "execution_count": 40,
   "metadata": {},
   "outputs": [
    {
     "name": "stdout",
     "output_type": "stream",
     "text": [
      "Low Pop. Counties: ['Osceola', 'Audubon', 'Adams', 'Ringgold']\n"
     ]
    }
   ],
   "source": [
    "# Cell 9\n",
    "# Use Search Cursor to Find Num of Counties w/Pop <5000:\n",
    "fc='H:/GEOG/Data/IowaCountiesFoodProgram.shp'\n",
    "lowpoplist=[] # initialize empty list for small counties\n",
    "fields = ['CountyName', 'Pop19']\n",
    "with arcpy.da.SearchCursor(fc, fields) as cursor:\n",
    "    for row in cursor:\n",
    "        if row[1] <= 6000: # identify counties w/low population\n",
    "            lowpoplist.append(row[0]) # collect small pop. county names here\n",
    "            \n",
    "print(f\"Low Pop. Counties: {lowpoplist}\")"
   ]
  },
  {
   "cell_type": "code",
   "execution_count": 41,
   "metadata": {
    "scrolled": false
   },
   "outputs": [
    {
     "data": {
      "text/html": [
       "<div class='gpresult'><h2>Messages</h2><div id='messages' data-messages='[\"Start Time: Tuesday, April 30, 2024 2:03:46 PM\",\"Reading Features...\",\"Cracking Features...\",\"Assembling Features...\",\"Succeeded at Tuesday, April 30, 2024 2:03:48 PM (Elapsed Time: 1.51 seconds)\"]' data-show='true'><div id = 'default' /></div></div>"
      ],
      "text/plain": [
       "<Result 'H:/GEOG/Data\\\\\\\\IAcountyneighbors.dbf'>"
      ]
     },
     "execution_count": 41,
     "metadata": {},
     "output_type": "execute_result"
    }
   ],
   "source": [
    "# Cell 10\n",
    "# Generate Table with each County's Neighbors:\n",
    "arcpy.management.MakeFeatureLayer(fc, # read in shapefile\n",
    "                                  \"IAcountyneighbors\") # name your new data table\n",
    "\n",
    "arcpy.analysis.PolygonNeighbors(\"IAcountyneighbors\", # take name of new data table...\n",
    "                                r\"/IAcountyneighbors.dbf\", # make an output dbf\n",
    "                                \"CountyName\") # where neighbor status is provided via county name"
   ]
  },
  {
   "cell_type": "code",
   "execution_count": 42,
   "metadata": {
    "scrolled": true
   },
   "outputs": [
    {
     "data": {
      "text/html": [
       "<div class='gpresult'><h2>Messages</h2><div id='messages' data-messages='[\"Start Time: Tuesday, April 30, 2024 2:03:48 PM\",\"Succeeded at Tuesday, April 30, 2024 2:03:49 PM (Elapsed Time: 1.40 seconds)\"]' data-show='true'><div id = 'default' /></div></div>"
      ],
      "text/plain": [
       "<Result 'H:/GEOG/Data\\\\join_table.dbf'>"
      ]
     },
     "execution_count": 42,
     "metadata": {},
     "output_type": "execute_result"
    }
   ],
   "source": [
    "# Cell 11\n",
    "# Set local variables\n",
    "inFeatures = r\"H:/GEOG/Data/IAcountyneighbors.dbf\"\n",
    "joinTable = \"CountyPopulations.csv\"\n",
    "joinField = \"nbr_County\"\n",
    "\n",
    "joined_table = arcpy.management.AddJoin(inFeatures, joinField, \n",
    "                                        joinTable, joinField)\n",
    "\n",
    "outputTable = \"join_table\"\n",
    "# Export the joined data to a new standalone table\n",
    "arcpy.conversion.TableToTable(joined_table, arcpy.env.workspace, outputTable)"
   ]
  },
  {
   "cell_type": "code",
   "execution_count": 23,
   "metadata": {},
   "outputs": [
    {
     "name": "stdout",
     "output_type": "stream",
     "text": [
      "71870\n"
     ]
    }
   ],
   "source": [
    "# Cell 13\n",
    "# Make a function that sums neighboring counties' populations OR recipient counts\n",
    "# User specifies whether output is population (\"pop\") or recipient count (\"recip\")\n",
    "\n",
    "def sum_nbr_counts(yourcounty, count_type):\n",
    "# Step 1: Get List of Neighboring Counties\n",
    "    fields1 = [\"src_County\", \"nbr_County\", \"Pop19\", \"Recip19\"]\n",
    "    my_nbrs = set()\n",
    "    with arcpy.da.SearchCursor(\"join_table.dbf\", fields1) as cursor:\n",
    "        for row in cursor:\n",
    "            if row[0] == yourcounty:\n",
    "                my_nbrs.add(row[1]) # append all neighboring counties\n",
    "    nbrs_list = list(my_nbrs) # can coerce set into list\n",
    "    nbrs_list.append(yourcounty) # we want to include yourcounty in new pop calculation\n",
    "    # print(nbrs_list)\n",
    "#--------------------------------------------------------------------\n",
    "# Step 2: Sum Counts of Neighboring Counties in List from Step 1\n",
    "    fields = [\"CountyName\", \"Pop19\", \"Recip19\"]\n",
    "    outp = 0\n",
    "    for i in range(len(nbrs_list)):\n",
    "        with arcpy.da.SearchCursor('H:/GEOG/Data/IowaCountiesFoodProgram.shp', fields) as cursor:\n",
    "            for row in cursor:\n",
    "                if row[0] == nbrs_list[i]:\n",
    "                    if count_type == \"pop\":\n",
    "                        outp += row[1]\n",
    "                        # print(row[1])\n",
    "                    elif count_type==\"recip\":\n",
    "                        outp += row[2]   \n",
    "                        # print(row[2])\n",
    "    return outp \n",
    "\n",
    "# Example with Adams County, get population count:\n",
    "print(sum_nbr_counts(\"Adams\", \"pop\"))"
   ]
  },
  {
   "cell_type": "code",
   "execution_count": 35,
   "metadata": {},
   "outputs": [],
   "source": [
    "# The below shows how to transfer your new FA rates to our original shapefile and plot"
   ]
  },
  {
   "cell_type": "code",
   "execution_count": 43,
   "metadata": {},
   "outputs": [
    {
     "data": {
      "text/html": [
       "<div class='gpresult'><h2>Messages</h2><div id='messages' data-messages='[\"Start Time: Tuesday, April 30, 2024 2:03:51 PM\",\"Adding NewFARate to join_table...\",\"Succeeded at Tuesday, April 30, 2024 2:03:52 PM (Elapsed Time: 0.90 seconds)\"]' data-show='true'><div id = 'default' /></div></div>"
      ],
      "text/plain": [
       "<Result 'H:/GEOG/Data\\\\join_table.dbf'>"
      ]
     },
     "execution_count": 43,
     "metadata": {},
     "output_type": "execute_result"
    }
   ],
   "source": [
    "# Cell 14 (Optional)\n",
    "# First, we make a couple new fields (columns) in prep for next step:\n",
    "fields = [\"src_County\", \"nbr_County\", \"Pop19\", \"Recip19\"]\n",
    "addfields = [\"NewPop\", \"NewRecip\", \"NewFARate\"]\n",
    "newfields = fields + addfields\n",
    "\n",
    "arcpy.management.AddField(\"join_table.dbf\", \"NewPop\", \"FLOAT\")\n",
    "arcpy.management.AddField(\"join_table.dbf\", \"NewRecip\", \"FLOAT\")\n",
    "arcpy.management.AddField(\"join_table.dbf\", \"NewFARate\", \"FLOAT\")"
   ]
  },
  {
   "cell_type": "code",
   "execution_count": 44,
   "metadata": {},
   "outputs": [],
   "source": [
    "# Cell 15 (Optional)\n",
    "# Make Cursor Iteratively update all low-population counties:\n",
    "\n",
    "with arcpy.da.UpdateCursor(\"join_table.dbf\", newfields) as cursor:\n",
    "    for row in cursor:\n",
    "        if row[0] in lowpoplist: # if source county (src_County) is low pop,\n",
    "                row[4] = sum_nbr_counts(row[0], \"pop\") # calc new pop\n",
    "                row[5] = sum_nbr_counts(row[0], \"recip\") # calc new recip count\n",
    "                row[6] = row[5]/row[4]\n",
    "                cursor.updateRow(row)"
   ]
  },
  {
   "cell_type": "code",
   "execution_count": 45,
   "metadata": {},
   "outputs": [
    {
     "data": {
      "text/html": [
       "<div class='gpresult'><h2>Messages</h2><div id='messages' data-messages='[\"Start Time: Tuesday, April 30, 2024 2:03:57 PM\",\"487 duplicate(s) from 99 group(s) deleted.\",\"Succeeded at Tuesday, April 30, 2024 2:03:57 PM (Elapsed Time: 0.18 seconds)\"]' data-show='true'><div id = 'default' /></div></div>"
      ],
      "text/plain": [
       "<Result 'H:/GEOG/Data\\\\join_table.dbf'>"
      ]
     },
     "execution_count": 45,
     "metadata": {},
     "output_type": "execute_result"
    }
   ],
   "source": [
    "# Cell 16 (Optional)\n",
    "# Keep only 1 row per source county (this will help us join with shp file)\n",
    "arcpy.DeleteIdentical_management(\"join_table.dbf\", [\"src_County\"])"
   ]
  },
  {
   "cell_type": "code",
   "execution_count": 46,
   "metadata": {},
   "outputs": [],
   "source": [
    "# Cell 17 (Optional)\n",
    "fields = [\"FArate19\", \"NewFARate\"]\n",
    "with arcpy.da.UpdateCursor(\"H:/GEOG/Data/NewFARate19.shp\", fields) as cursor:\n",
    "        for row in cursor:\n",
    "            if row[1]!=0: # if NewFARate22 is nonzero,\n",
    "                row[0]=row[1] # replace old Food Assist rate w/NewFARate\n",
    "                cursor.updateRow(row)"
   ]
  },
  {
   "cell_type": "code",
   "execution_count": null,
   "metadata": {},
   "outputs": [],
   "source": []
  },
  {
   "cell_type": "code",
   "execution_count": null,
   "metadata": {},
   "outputs": [],
   "source": []
  },
  {
   "cell_type": "code",
   "execution_count": null,
   "metadata": {},
   "outputs": [],
   "source": []
  },
  {
   "cell_type": "code",
   "execution_count": 18,
   "metadata": {},
   "outputs": [],
   "source": []
  },
  {
   "cell_type": "code",
   "execution_count": null,
   "metadata": {},
   "outputs": [],
   "source": []
  }
 ],
 "metadata": {
  "kernelspec": {
   "display_name": "ArcGISPro",
   "language": "Python",
   "name": "python3"
  },
  "language_info": {
   "file_extension": ".py",
   "name": "python",
   "version": "3"
  }
 },
 "nbformat": 4,
 "nbformat_minor": 2
}
